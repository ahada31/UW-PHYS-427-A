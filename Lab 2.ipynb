{
 "cells": [
  {
   "cell_type": "code",
   "execution_count": 2,
   "id": "b4d8ed2a",
   "metadata": {},
   "outputs": [
    {
     "name": "stdout",
     "output_type": "stream",
     "text": [
      "(150,)\n",
      "epoch 0, loss 0.6601159572601318\n",
      "epoch 1, loss 0.6617733240127563\n",
      "epoch 2, loss 0.6819351315498352\n",
      "epoch 3, loss 0.6507980227470398\n",
      "epoch 4, loss 0.6369578838348389\n",
      "epoch 5, loss 0.5696346759796143\n",
      "epoch 6, loss 0.5237724184989929\n",
      "epoch 7, loss 0.4422195851802826\n",
      "epoch 8, loss 0.3858679234981537\n",
      "epoch 9, loss 0.31550416350364685\n",
      "epoch 10, loss 0.2677119970321655\n",
      "epoch 11, loss 0.21862271428108215\n",
      "epoch 12, loss 0.18542823195457458\n",
      "epoch 13, loss 0.1550448089838028\n",
      "epoch 14, loss 0.1342768371105194\n",
      "epoch 15, loss 0.11650456488132477\n",
      "epoch 16, loss 0.10411510616540909\n",
      "epoch 17, loss 0.09390798956155777\n",
      "epoch 18, loss 0.08662723004817963\n",
      "epoch 19, loss 0.08074860274791718\n",
      "epoch 20, loss 0.07645796239376068\n",
      "epoch 21, loss 0.07302519679069519\n",
      "epoch 22, loss 0.07046479731798172\n",
      "epoch 23, loss 0.06842052191495895\n",
      "epoch 24, loss 0.06686455756425858\n",
      "epoch 25, loss 0.06561855226755142\n",
      "epoch 26, loss 0.06465162336826324\n",
      "epoch 27, loss 0.06387180089950562\n",
      "epoch 28, loss 0.06325479596853256\n",
      "epoch 29, loss 0.06275174766778946\n",
      "epoch 30, loss 0.06234552338719368\n",
      "epoch 31, loss 0.06200941652059555\n",
      "epoch 32, loss 0.06173192337155342\n",
      "epoch 33, loss 0.06149803847074509\n",
      "epoch 34, loss 0.061300214380025864\n",
      "epoch 35, loss 0.06112980470061302\n",
      "epoch 36, loss 0.06098192185163498\n",
      "epoch 37, loss 0.06085147336125374\n",
      "epoch 38, loss 0.060735296458005905\n",
      "epoch 39, loss 0.060630328953266144\n",
      "epoch 40, loss 0.0605345219373703\n",
      "epoch 41, loss 0.060446035116910934\n",
      "epoch 42, loss 0.0603635273873806\n",
      "epoch 43, loss 0.060285866260528564\n",
      "epoch 44, loss 0.06021216884255409\n",
      "epoch 45, loss 0.060141708701848984\n",
      "epoch 46, loss 0.06007394194602966\n",
      "epoch 47, loss 0.06000842526555061\n",
      "epoch 48, loss 0.0599447637796402\n",
      "epoch 49, loss 0.059882666915655136\n"
     ]
    }
   ],
   "source": [
    "# Import neccessary packages\n",
    "\n",
    "%matplotlib inline\n",
    "\n",
    "import torch\n",
    "import torch.nn as nn\n",
    "import numpy as np\n",
    "import matplotlib.pyplot as plt\n",
    "import torch.nn.functional as F\n",
    "from torch.utils.data import Dataset, DataLoader\n",
    "from sklearn.model_selection import train_test_split\n",
    "\n",
    "from sklearn.datasets import load_iris\n",
    "\n",
    "# iris dataset is available from scikit-learn package\n",
    "iris = load_iris()\n",
    "\n",
    "# Load the X (features) and y (targets) for training\n",
    "X_train = iris['data']\n",
    "y_train = iris['target']\n",
    "\n",
    "# Load the name labels for features and targets\n",
    "feature_names = iris['feature_names']\n",
    "names = iris['target_names']\n",
    "\n",
    "\n",
    "np.reshape(X_train, (150, 4))\n",
    "\n",
    "np.reshape(y_train, (150, 1))\n",
    "\n",
    "\n",
    "\n",
    "print(y_train.shape)\n",
    "\n",
    "\n",
    "class irisClassification(nn.Module):\n",
    "    \n",
    "    def __init__(self, input_dim, output_dim):\n",
    "        \n",
    "        super(irisClassification, self).__init__()\n",
    "        \n",
    "        self.layer1 = nn.Linear(input_dim, 20)\n",
    "        self.layer2 = nn.Linear(20, output_dim)\n",
    "\n",
    "        \n",
    "    def forward(self, x):\n",
    "        #x = F.relu(self.layer1(x))\n",
    "        #x = self.layer2(x)\n",
    "        \n",
    "        out = self.layer2(self.layer1(x))\n",
    "        \n",
    "        return out\n",
    "    \n",
    "model = irisClassification(input_dim = 4, output_dim = 1)\n",
    "\n",
    "learning_rate = 0.01\n",
    "epochs  = 50 # This has to be <50\n",
    "\n",
    "# We will use gradient descent for our optimizer and Mean Squared Error Loss function\n",
    "loss_func = nn.MSELoss() \n",
    "optimizer = torch.optim.SGD(model.parameters(), lr = learning_rate)\n",
    "\n",
    "# Define a list or numpy array placeholder to keep track of our training loss\n",
    "\n",
    "loss_list = []\n",
    "epochs_list = []\n",
    "\n",
    "X_train = torch.from_numpy(X_train).float()\n",
    "y_train = torch.from_numpy(y_train).float()\n",
    "\n",
    "\n",
    "for epoch in range(epochs):\n",
    "    optimizer.zero_grad()\n",
    "    outputs = model(X_train)\n",
    "    outputs = outputs[:,0]\n",
    "    loss = loss_func(outputs, y_train)\n",
    "    loss_list.append(loss.item())\n",
    "    epochs_list.append(epoch)\n",
    "\n",
    "    loss.backward()\n",
    "    optimizer.step()\n",
    "    print('epoch {}, loss {}'.format(epoch, loss.item()))"
   ]
  },
  {
   "cell_type": "code",
   "execution_count": 3,
   "id": "274fb86d",
   "metadata": {},
   "outputs": [
    {
     "data": {
      "image/png": "[encoded data removed]",
      "text/plain": [
       "<Figure size 864x432 with 1 Axes>"
      ]
     },
     "metadata": {
      "needs_background": "light"
     },
     "output_type": "display_data"
    }
   ],
   "source": [
    "plt.figure(figsize=(12, 6))\n",
    "plt.plot(epochs_list, loss_list)\n",
    "plt.xlabel('epochs')\n",
    "plt.ylabel('training loss')\n",
    "plt.show()"
   ]
  },
  {
   "cell_type": "code",
   "execution_count": 1,
   "id": "24b2925e",
   "metadata": {},
   "outputs": [
    {
     "data": {
      "text/plain": [
       "'\\nwith torch.no_grad():\\n    predictions_train = model(X_train)\\n    \\ncorrect = 0\\nfor i in range(149):\\n    if np.around(predicted[i],0) == y_train[i]:\\n        correct += 1\\n\\nprint(str(correct/150*100) +\"% correct\")\\n'"
      ]
     },
     "execution_count": 1,
     "metadata": {},
     "output_type": "execute_result"
    }
   ],
   "source": [
    "\n",
    "with torch.no_grad():\n",
    "    predictions_train = model(X_train)\n",
    "    \n",
    "correct = 0\n",
    "for i in range(149):\n",
    "    if np.around(predicted[i],0) == y_train[i]:\n",
    "        correct += 1\n",
    "\n",
    "print(str(correct/150*100) +\"% correct\")\n",
    "\n"
   ]
  },
  {
   "cell_type": "code",
   "execution_count": null,
   "id": "5c175568",
   "metadata": {},
   "outputs": [],
   "source": []
  },
  {
   "cell_type": "code",
   "execution_count": null,
   "id": "e7be4998",
   "metadata": {},
   "outputs": [],
   "source": []
  }
 ],
 "metadata": {
  "kernelspec": {
   "display_name": "Python 3 (ipykernel)",
   "language": "python",
   "name": "python3"
  },
  "language_info": {
   "codemirror_mode": {
    "name": "ipython",
    "version": 3
   },
   "file_extension": ".py",
   "mimetype": "text/x-python",
   "name": "python",
   "nbconvert_exporter": "python",
   "pygments_lexer": "ipython3",
   "version": "3.9.12"
  }
 },
 "nbformat": 4,
 "nbformat_minor": 5
}
