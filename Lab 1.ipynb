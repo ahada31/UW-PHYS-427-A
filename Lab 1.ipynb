{
 "cells": [
  {
   "cell_type": "code",
   "execution_count": 8,
   "id": "131f8635",
   "metadata": {},
   "outputs": [
    {
     "name": "stdout",
     "output_type": "stream",
     "text": [
      "[[ 1.91214438 -0.51027049 -0.44193343 -0.47341363 -0.31488841 -0.38410307]\n",
      " [-1.64893594  1.11270897 -0.61977219 -0.64676625  1.28785592  0.99873768]\n",
      " [ 1.91214438 -0.51027028 -0.82200995 -0.82011889 -0.31488835 -0.26200369]\n",
      " ...\n",
      " [-0.45937553 -0.84184024  1.01382735  0.95550021 -1.57037143 -0.20325779]\n",
      " [-0.24351375 -0.95259315  1.01382735  0.95550021 -1.3566721  -0.41567962]\n",
      " [ 0.59642074 -0.41902261  1.01382735  0.95550021 -0.39502545  0.64852692]]\n"
     ]
    },
    {
     "data": {
      "image/png": "[encoded data removed]",
      "text/plain": [
       "<Figure size 720x360 with 1 Axes>"
      ]
     },
     "metadata": {
      "needs_background": "light"
     },
     "output_type": "display_data"
    },
    {
     "data": {
      "image/png": "[encoded data removed]",
      "text/plain": [
       "<Figure size 720x360 with 1 Axes>"
      ]
     },
     "metadata": {
      "needs_background": "light"
     },
     "output_type": "display_data"
    }
   ],
   "source": [
    "# EXERCISE 1: SCALING DATA WITH STANDARD SCALING\n",
    "\n",
    "%matplotlib inline\n",
    "import numpy as np # arrays\n",
    "import pandas as pd # reading files\n",
    "import matplotlib.pyplot as plt # graphing/plotting \n",
    "import math\n",
    "\n",
    "# Load the dataset (.csv) using pandas package\n",
    "\n",
    "CMS_calori_dataset = pd.read_csv('hgcal.csv')\n",
    "\n",
    "# .head directive on the panda dataframe displays the first n-rows\n",
    "\n",
    "# CMS_calori_dataset.head(n = 10)\n",
    "\n",
    "# Convert the panda dataframe into numpy 2D array\n",
    "\n",
    "CMS_calori_dataset_np = CMS_calori_dataset.to_numpy()\n",
    "\n",
    "# The converted numpy array has the dimension of 420 (rows) x 8 (columns)\n",
    "\n",
    "# print(CMS_calori_dataset_np.shape)\n",
    "\n",
    "# Extract only x, y, z, eta, phi and energy columns from the dataset and stack them along column direction\n",
    "# Name this new 2D array CMS_calori_dataset_np_sub. \n",
    "# The array should have dimension 420 (rows) x 6 (columns)\n",
    "\n",
    "CMS_calori_dataset_np_sub = CMS_calori_dataset_np[:, 1:7]\n",
    "# print(CMS_calori_dataset_np_sub[:, 0])\n",
    "# print(CMS_calori_dataset_np_sub.shape)\n",
    "\n",
    "\n",
    "# Create the scaling function\n",
    "\n",
    "def scale_data(arr):\n",
    "\n",
    "    y_dim = arr.shape[0] # of rows (420)\n",
    "    x_dim = arr.shape[1] # of columns (6) \n",
    "    np.vsplit(arr, x_dim) # splits array into each column\n",
    "    empty_x = [[] for i in range(x_dim)] # creates empty 6 column array\n",
    "    \n",
    "    for i in range(x_dim): # scans through each column \n",
    "        arr_row = arr[:, i] # all rows of i-th column\n",
    "        mean = 0 # create initial mean variable\n",
    "        sd = 0 # create initial standard deviation variable\n",
    "        \n",
    "        for x in range(y_dim): # scans through rows of column \n",
    "            mean += arr_row[x] # calculates sum\n",
    "        mean = mean/y_dim # calculates mean\n",
    "        \n",
    "        for x in range(y_dim):\n",
    "            sd += (arr_row[x] - mean)**2 # calculates sum of variances\n",
    "        sd = sd/y_dim # calulcates variance\n",
    "        sd = sd**0.5 # calculates sd\n",
    "        \n",
    "        for x in range(y_dim):\n",
    "            empty_x[i].append(float((arr_row[x]-mean)/sd)) # appending empty 6 column array with scaled data\n",
    "\n",
    "    scaled_data = np.stack([empty_x[0], empty_x[1], empty_x[2], empty_x[3], empty_x[4], empty_x[5]]) # stacking each column together\n",
    "    scaled_data = np.transpose(scaled_data)\n",
    "    return scaled_data\n",
    "\n",
    "\n",
    "# Test the function with CMS_calori_dataset_np_sub\n",
    "\n",
    "CMS_calori_dataset_np_sub_scaled = scale_data(CMS_calori_dataset_np_sub)\n",
    "print(CMS_calori_dataset_np_sub_scaled)\n",
    "\n",
    "\n",
    "# EXAMPLES\n",
    "# Data scale for 'x' column\n",
    "\n",
    "plt.figure(figsize = (10, 5))\n",
    "plt.hist(CMS_calori_dataset_np_sub_scaled[:, 0], bins = 20, facecolor = 'grey', edgecolor = 'black', linewidth = 2)\n",
    "plt.xticks(fontsize=14)\n",
    "plt.yticks(fontsize=14)\n",
    "plt.xlabel(\"Scaled 'x'\")  \n",
    "plt.ylabel('y')  \n",
    "plt.show()\n",
    "\n",
    "# Data scale for 'energy' column\n",
    "\n",
    "plt.figure(figsize = (10, 5))\n",
    "plt.hist(CMS_calori_dataset_np_sub_scaled[:, 5], bins = 20, facecolor = 'grey', edgecolor = 'black', linewidth = 2)\n",
    "plt.xticks(fontsize=14)\n",
    "plt.yticks(fontsize=14)\n",
    "plt.xlabel(\"Scaled 'energy'\")\n",
    "plt.show()\n"
   ]
  },
  {
   "cell_type": "code",
   "execution_count": 9,
   "id": "c9ab440c",
   "metadata": {},
   "outputs": [
    {
     "name": "stdout",
     "output_type": "stream",
     "text": [
      "(252, 6) (84, 6) (84, 6)\n",
      "(420, 3) (420, 3)\n"
     ]
    }
   ],
   "source": [
    "# EXERCISE 2: DATA SPLITTING\n",
    "\n",
    "# Create the splitting function\n",
    "\n",
    "def split_data(arr, split_proportions, axis):\n",
    "    # Returns a list of numpy sub-arrays according to split proportions\n",
    "    if axis == 0:\n",
    "        split_rows_rough = [i * arr.shape[0] for i in split_proportions] # multiply each of 3 ratios by number of rows to get # of rows per split\n",
    "        split_rows = [math.ceil(i) for i in split_rows_rough] # round each decimal data point up to ensure data in each 3 rows\n",
    "        #split_rows[1] = split_rows[0] + split_rows[1] # setting the second number of rows to be the # of the second number of rows + the # of the first number of rows\n",
    "        #split_rows[2] = split_rows[1] + split_rows[2]\n",
    "        for i in range(len(split_proportions) - 1): # using previous statement to make each next number of rows cumulative sum of previous number of rows\n",
    "            split_rows[i+1] = split_rows[i] + split_rows[i+1]\n",
    "        split_data_list = np.split(arr, split_rows, axis = 0) # splitting rows\n",
    "        return split_data_list\n",
    "    \n",
    "    elif axis == 1: # same thing but splitting vertically\n",
    "        split_columns_rough = [i * arr.shape[1] for i in split_proportions] \n",
    "        split_columns = [math.ceil(i) for i in split_columns_rough]\n",
    "        for i in range(len(split_proportions)-1):\n",
    "            split_columns[i+1] = split_columns[i] + split_columns[i+1]\n",
    "        split_data_list = np.split(arr, split_columns, axis = 1)\n",
    "        return split_data_list\n",
    "        \n",
    "# Test your split function against scaled CMS Calorimieter dataset from exercise 1\n",
    "\n",
    "sub_data_list_1 = split_data(arr = CMS_calori_dataset_np_sub_scaled, split_proportions = [0.6, 0.2, 0.2], axis = 0)\n",
    "\n",
    "# Confirm that dataset has been split into correct shapes\n",
    "# The correct dimensions should be (252, 6) (84, 6) (84, 6)\n",
    "\n",
    "print(sub_data_list_1[0].shape, sub_data_list_1[1].shape, sub_data_list_1[2].shape)\n",
    "\n",
    "# Test your split function against scaled CMS Calorimieter dataset from exercise 1\n",
    "\n",
    "sub_data_list_2 = split_data(arr = CMS_calori_dataset_np_sub_scaled, split_proportions = [0.5, 0.5], axis = 1)\n",
    "\n",
    "# Confirm that dataset has been split into correct shapes\n",
    "# The correct dimensions should be (420, 3) (420, 3)\n",
    "\n",
    "print(sub_data_list_2[0].shape, sub_data_list_2[1].shape)"
   ]
  },
  {
   "cell_type": "code",
   "execution_count": null,
   "id": "c0304bf0",
   "metadata": {},
   "outputs": [],
   "source": []
  },
  {
   "cell_type": "code",
   "execution_count": null,
   "id": "8fc0ab58",
   "metadata": {},
   "outputs": [],
   "source": []
  },
  {
   "cell_type": "code",
   "execution_count": null,
   "id": "54a39730",
   "metadata": {},
   "outputs": [],
   "source": []
  }
 ],
 "metadata": {
  "kernelspec": {
   "display_name": "Python 3 (ipykernel)",
   "language": "python",
   "name": "python3"
  },
  "language_info": {
   "codemirror_mode": {
    "name": "ipython",
    "version": 3
   },
   "file_extension": ".py",
   "mimetype": "text/x-python",
   "name": "python",
   "nbconvert_exporter": "python",
   "pygments_lexer": "ipython3",
   "version": "3.9.12"
  }
 },
 "nbformat": 4,
 "nbformat_minor": 5
}
