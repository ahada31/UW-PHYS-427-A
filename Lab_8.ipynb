{
  "cells": [
    {
      "cell_type": "markdown",
      "id": "c76bd7e6",
      "metadata": {
        "id": "c76bd7e6"
      },
      "source": [
        "# Lab 8 Report: \n",
        "## FINAL PROJECT STRATEGIC PLANNING"
      ]
    },
    {
      "cell_type": "markdown",
      "id": "3f5ed902",
      "metadata": {
        "id": "3f5ed902"
      },
      "source": [
        "### Lab 8 Instruction: https://canvas.uw.edu/courses/1548925/files/92225287?wrap=1"
      ]
    },
    {
      "cell_type": "markdown",
      "id": "0098c149",
      "metadata": {
        "id": "0098c149"
      },
      "source": [
        "### Team Members: Ahad"
      ]
    },
    {
      "cell_type": "markdown",
      "id": "36869478",
      "metadata": {
        "id": "36869478"
      },
      "source": [
        "### Dataset for your project: CCSN Gravitational Wave Detection"
      ]
    },
    {
      "cell_type": "markdown",
      "id": "7b08ff02",
      "metadata": {
        "id": "7b08ff02"
      },
      "source": [
        "#### Feel free to delete or modify pre-written markdown cells below the line"
      ]
    },
    {
      "cell_type": "markdown",
      "id": "94d4ffa3",
      "metadata": {
        "id": "94d4ffa3"
      },
      "source": [
        "------------------"
      ]
    },
    {
      "cell_type": "code",
      "execution_count": 29,
      "id": "0258bb43",
      "metadata": {
        "colab": {
          "base_uri": "https://localhost:8080/"
        },
        "id": "0258bb43",
        "outputId": "fc937aa9-5150-47ac-a167-5c4d52daa793"
      },
      "outputs": [
        {
          "output_type": "stream",
          "name": "stdout",
          "text": [
            "test\n"
          ]
        }
      ],
      "source": [
        "%matplotlib inline\n",
        "\n",
        "import numpy as np\n",
        "import matplotlib.pyplot as plt\n",
        "import torch\n",
        "import seaborn as sns\n",
        "import IPython\n",
        "import tqdm\n",
        "\n",
        "from scipy.io.wavfile import write\n",
        "\n",
        "print(\"test\")"
      ]
    },
    {
      "cell_type": "code",
      "execution_count": 30,
      "id": "e331903e",
      "metadata": {
        "id": "e331903e"
      },
      "outputs": [],
      "source": [
        "sns.set(style = 'white', font_scale = 1.5)"
      ]
    },
    {
      "cell_type": "markdown",
      "id": "596ea344",
      "metadata": {
        "id": "596ea344"
      },
      "source": [
        "## Understanding the Data"
      ]
    },
    {
      "cell_type": "code",
      "source": [
        "from google.colab import drive\n",
        "drive.mount('/content/drive')"
      ],
      "metadata": {
        "colab": {
          "base_uri": "https://localhost:8080/"
        },
        "id": "8RTRfKd3vG5t",
        "outputId": "ad13bc00-c03b-4485-c73b-634e0e3ef33b"
      },
      "id": "8RTRfKd3vG5t",
      "execution_count": 31,
      "outputs": [
        {
          "output_type": "stream",
          "name": "stdout",
          "text": [
            "Drive already mounted at /content/drive; to attempt to forcibly remount, call drive.mount(\"/content/drive\", force_remount=True).\n"
          ]
        }
      ]
    },
    {
      "cell_type": "code",
      "execution_count": 32,
      "id": "53027328",
      "metadata": {
        "colab": {
          "base_uri": "https://localhost:8080/"
        },
        "id": "53027328",
        "outputId": "5d85b9b9-91e7-445a-ce21-f4a3f4bb125a"
      },
      "outputs": [
        {
          "output_type": "stream",
          "name": "stdout",
          "text": [
            "List of datasets in this file: \n",
            " ['Dis', 'Model_FR', 'Model_NR', 'Model_SR', 'Noise']\n"
          ]
        }
      ],
      "source": [
        "import h5py\n",
        "import pandas as pd\n",
        "\n",
        "# opening file for reading \n",
        "\n",
        "# NOTE: I will be using the 2.5 GB file that was supposed to be used for just testing and validation for everything\n",
        "# the actual training data was too large (almost 20 GB) and was thus incredibly slow to run through\n",
        "# I will be splitting this dataset into everything: training, test, and validation sets\n",
        "\n",
        "file_path = 'drive/MyDrive/Internship/PHYS 427 Lab 8 - CCSN Gravitational Waves Detection/CCSN_Pan_SNR_Free_Test_Validation.h5'\n",
        "hdf = h5py.File(file_path)\n",
        "ls = list(hdf.keys())\n",
        "print(\"List of datasets in this file: \\n\", ls)\n",
        "\n",
        "# assigning each dataset to relevant variables\n",
        "    # no rotation\n",
        "signal_nr = hdf['Model_NR']['Hp']\n",
        "    # fast rotation\n",
        "signal_fr = hdf['Model_FR']['Hp']\n",
        "    # slow rotation\n",
        "signal_sr = hdf['Model_SR']['Hp']\n",
        "    # raw noise data\n",
        "noise = hdf['Noise']['Strain']"
      ]
    },
    {
      "cell_type": "code",
      "execution_count": 33,
      "id": "dcd22209",
      "metadata": {
        "id": "dcd22209",
        "outputId": "020b1af2-9864-41bb-ac48-f8ecbab85b55",
        "colab": {
          "base_uri": "https://localhost:8080/"
        }
      },
      "outputs": [
        {
          "output_type": "stream",
          "name": "stdout",
          "text": [
            "Shape of no rotation signal: \n",
            " (6250, 8192)\n",
            "\n",
            "\n",
            "Shape of fast rotation signal: \n",
            " (6250, 8192)\n",
            "\n",
            "\n",
            "Shape of slow rotation signal: \n",
            " (6250, 8192)\n",
            "\n",
            "\n",
            "Shape of noise: \n",
            " (18750, 8192)\n"
          ]
        }
      ],
      "source": [
        "# converting into numpy array\n",
        "signal_nr = np.array(signal_nr)\n",
        "signal_fr = np.array(signal_fr)\n",
        "signal_sr = np.array(signal_sr)\n",
        "#noise = np.array(noise)\n",
        "\n",
        "# printing out shapes\n",
        "print(\"Shape of no rotation signal: \\n\", signal_nr.shape)\n",
        "print(\"\\n\\nShape of fast rotation signal: \\n\", signal_fr.shape)\n",
        "print(\"\\n\\nShape of slow rotation signal: \\n\", signal_sr.shape)\n",
        "print(\"\\n\\nShape of noise: \\n\", noise.shape)"
      ]
    },
    {
      "cell_type": "code",
      "execution_count": 34,
      "id": "269c4abb",
      "metadata": {
        "id": "269c4abb"
      },
      "outputs": [],
      "source": [
        "# split dataset into testing and training\n",
        "# training to testing ratio: 50000/6250 = 8\n",
        "# therefore take first 781 of each signal set (size 6250) \n",
        "signal_nr_test = signal_nr[:781]\n",
        "signal_fr_test = signal_fr[:781]\n",
        "signal_sr_test = signal_sr[:781]\n",
        "\n",
        "# take remaining as training set\n",
        "signal_nr_train = signal_nr[781:]\n",
        "signal_fr_train = signal_fr[781:]\n",
        "signal_sr_train = signal_sr[781:]\n",
        "\n",
        "# now taking first 2344 points for noise testing set\n",
        "noise_test = noise[:2343]\n",
        "# ... and remaining points for training set\n",
        "noise_train = noise[2343:]"
      ]
    },
    {
      "cell_type": "code",
      "execution_count": 35,
      "id": "63eb0a68",
      "metadata": {
        "id": "63eb0a68",
        "outputId": "7406c198-f07e-4dac-9d0e-f717de983baf",
        "colab": {
          "base_uri": "https://localhost:8080/",
          "height": 805
        }
      },
      "outputs": [
        {
          "output_type": "display_data",
          "data": {
            "text/plain": [
              "<Figure size 360x180 with 1 Axes>"
            ],
            "image/png": "[encoded data removed]"
          },
          "metadata": {}
        },
        {
          "output_type": "display_data",
          "data": {
            "text/plain": [
              "<Figure size 360x180 with 1 Axes>"
            ],
            "image/png": "[encoded data removed]"
          },
          "metadata": {}
        },
        {
          "output_type": "display_data",
          "data": {
            "text/plain": [
              "<Figure size 360x180 with 1 Axes>"
            ],
            "image/png": "[encoded data removed]"
          },
          "metadata": {}
        },
        {
          "output_type": "display_data",
          "data": {
            "text/plain": [
              "<Figure size 360x180 with 1 Axes>"
            ],
            "image/png": "[encoded data removed]"
          },
          "metadata": {}
        }
      ],
      "source": [
        "# graphing each dataset for training data\n",
        "\n",
        "# sample number for each dataset (6250-781 total)\n",
        "sample = 10\n",
        "\n",
        "# nr\n",
        "plt.figure(figsize = (5, 2.5))\n",
        "plt.plot(signal_nr_train[sample], linewidth = 1)\n",
        "plt.title('NO Rotation CCSN Strain for sample '+str(sample))\n",
        "sns.despine()\n",
        "\n",
        "# fr\n",
        "plt.figure(figsize = (5, 2.5))\n",
        "plt.title('FAST Rotation CCSN Strain for sample '+str(sample))\n",
        "plt.plot(signal_fr_train[sample], linewidth = 1)\n",
        "sns.despine()\n",
        "\n",
        "#sr\n",
        "plt.figure(figsize = (5, 2.5))\n",
        "plt.title('SLOW Rotation CCSN Strain for sample '+str(sample))\n",
        "plt.plot(signal_sr_train[sample], linewidth = 1)\n",
        "sns.despine()\n",
        "\n",
        "# noise\n",
        "plt.figure(figsize = (5, 2.5))\n",
        "plt.title('Noise for sample '+str(sample))\n",
        "plt.plot(noise_train[sample], linewidth = 1)\n",
        "sns.despine()"
      ]
    },
    {
      "cell_type": "code",
      "execution_count": 36,
      "id": "3caa130d",
      "metadata": {
        "id": "3caa130d",
        "outputId": "034a0680-63a9-48e0-8f60-8cd3678d7396",
        "colab": {
          "base_uri": "https://localhost:8080/"
        }
      },
      "outputs": [
        {
          "output_type": "execute_result",
          "data": {
            "text/plain": [
              "(16407, 8192)"
            ]
          },
          "metadata": {},
          "execution_count": 36
        }
      ],
      "source": [
        "# Creating signal array for training (1)\n",
        "signals_train = np.concatenate((signal_nr_train, signal_sr_train, signal_fr_train), axis=0)\n",
        "signals_train.shape"
      ]
    },
    {
      "cell_type": "code",
      "execution_count": 37,
      "id": "fc78fc1c",
      "metadata": {
        "id": "fc78fc1c",
        "outputId": "7e2ef918-e542-4041-8c1a-2367d7889fb1",
        "colab": {
          "base_uri": "https://localhost:8080/"
        }
      },
      "outputs": [
        {
          "output_type": "execute_result",
          "data": {
            "text/plain": [
              "(2343, 8192)"
            ]
          },
          "metadata": {},
          "execution_count": 37
        }
      ],
      "source": [
        "# Creating signal array for testing (1)\n",
        "signals_test = np.concatenate((signal_nr_test, signal_sr_test, signal_fr_test), axis=0)\n",
        "signals_test.shape"
      ]
    },
    {
      "cell_type": "code",
      "execution_count": 38,
      "id": "fe39c15a",
      "metadata": {
        "id": "fe39c15a",
        "outputId": "5b7ce5be-f962-40e0-9c27-252332f93596",
        "colab": {
          "base_uri": "https://localhost:8080/"
        }
      },
      "outputs": [
        {
          "output_type": "execute_result",
          "data": {
            "text/plain": [
              "(16407, 8192)"
            ]
          },
          "metadata": {},
          "execution_count": 38
        }
      ],
      "source": [
        "# training noise array (0)\n",
        "noise_train.shape"
      ]
    },
    {
      "cell_type": "code",
      "execution_count": 39,
      "id": "5de95c82",
      "metadata": {
        "id": "5de95c82",
        "outputId": "23fc6812-bf1c-46f4-fca0-7e40119f50f0",
        "colab": {
          "base_uri": "https://localhost:8080/"
        }
      },
      "outputs": [
        {
          "output_type": "execute_result",
          "data": {
            "text/plain": [
              "(2343, 8192)"
            ]
          },
          "metadata": {},
          "execution_count": 39
        }
      ],
      "source": [
        "# testing noise array (0)\n",
        "noise_test.shape"
      ]
    },
    {
      "cell_type": "code",
      "execution_count": 40,
      "id": "94e8cbd5",
      "metadata": {
        "id": "94e8cbd5"
      },
      "outputs": [],
      "source": [
        "# shuffling signals and noise to create feature and target array\n",
        "\n",
        "def shuffle(a, b):\n",
        "    indexes = np.random.permutation(len(a) + len(b))\n",
        "    features = []\n",
        "    targets = []\n",
        "    \n",
        "    for i in indexes:\n",
        "        if i < len(a):\n",
        "            features.append(a[i])\n",
        "            # targets assigned a 0 \n",
        "            targets.append(0)\n",
        "        else:\n",
        "            features.append(b[i-len(a)])\n",
        "            # targets assigned a 1\n",
        "            targets.append(1)\n",
        "            \n",
        "    return features, targets"
      ]
    },
    {
      "cell_type": "code",
      "execution_count": 41,
      "id": "c9aaba84",
      "metadata": {
        "id": "c9aaba84",
        "outputId": "45737654-cea2-4fc0-b636-2c08f724d03a",
        "colab": {
          "base_uri": "https://localhost:8080/"
        }
      },
      "outputs": [
        {
          "output_type": "execute_result",
          "data": {
            "text/plain": [
              "((32814, 8192), (32814,))"
            ]
          },
          "metadata": {},
          "execution_count": 41
        }
      ],
      "source": [
        "# define training features and training targets\n",
        "features, targets = shuffle(noise_train, signals_train)\n",
        "\n",
        "features_train = np.array(features)\n",
        "targets_train = np.array(targets)\n",
        "\n",
        "features_train.shape, targets_train.shape"
      ]
    },
    {
      "cell_type": "code",
      "execution_count": 42,
      "id": "28b835b0",
      "metadata": {
        "id": "28b835b0",
        "outputId": "14bbf358-780c-426f-90f9-13fdc106e453",
        "colab": {
          "base_uri": "https://localhost:8080/"
        }
      },
      "outputs": [
        {
          "output_type": "execute_result",
          "data": {
            "text/plain": [
              "((4686, 8192), (4686,))"
            ]
          },
          "metadata": {},
          "execution_count": 42
        }
      ],
      "source": [
        "# define testing features and testing targets\n",
        "features, targets = shuffle(noise_test, signals_test)\n",
        "\n",
        "features_test = np.array(features)\n",
        "targets_test = np.array(targets)\n",
        "\n",
        "features_test.shape, targets_test.shape"
      ]
    },
    {
      "cell_type": "code",
      "execution_count": 43,
      "id": "7c005af3",
      "metadata": {
        "id": "7c005af3"
      },
      "outputs": [],
      "source": [
        "# create validation set by taking first 10% of training data (about first 3281)\n",
        "\n",
        "features_validation = features_train[:3281]\n",
        "targets_validation = targets_train[:3281]\n",
        "\n",
        "# take remaining data for training set\n",
        "\n",
        "features_train = features_train[3281:]\n",
        "targets_train = targets_train[3281:]"
      ]
    },
    {
      "cell_type": "code",
      "execution_count": 44,
      "id": "4910ae95",
      "metadata": {
        "id": "4910ae95",
        "colab": {
          "base_uri": "https://localhost:8080/",
          "height": 35
        },
        "outputId": "b8b8b5a4-bcc0-4dca-a5a5-d0183b3b9e86"
      },
      "outputs": [
        {
          "output_type": "execute_result",
          "data": {
            "text/plain": [
              "\"\\n# Reshape train/validation/test sets to conform to PyTorch's (N, Channels, Height, Width) standard for CNNs\\n\\nfeatures_train = np.reshape(features_train, (29533, 1, 1, 8192))\\nfeatures_validation = np.reshape(features_validation, (3281, 1, 1, 8192))\\nfeatures_test = np.reshape(features_test, (4686, 1, 1, 8192))\\n\""
            ],
            "application/vnd.google.colaboratory.intrinsic+json": {
              "type": "string"
            }
          },
          "metadata": {},
          "execution_count": 44
        }
      ],
      "source": [
        "targets_train = targets_train.reshape(29533, 1)\n",
        "targets_validation = targets_validation.reshape(3281, 1)\n",
        "targets_test = targets_test.reshape(4686, 1)\n",
        "'''\n",
        "# Reshape to conform to PyTorch (sample size (N), sequence length, # of features) \n",
        "features_train = features_train.reshape((features_train.shape[0], -1, 1))\n",
        "targets_train = targets_train.reshape((targets_train.shape[0], -1, 1))\n",
        "\n",
        "features_test = features_test.reshape((features_test.shape[0], -1, 1))\n",
        "targets_test = targets_test.reshape((targets_test.shape[0], -1, 1))\n",
        "\n",
        "features_validation = features_validation.reshape((features_validation.shape[0], -1, 1))\n",
        "targets_validation = targets_validation.reshape((targets_validation.shape[0], -1, 1))\n",
        "'''\n",
        "\n",
        "'''\n",
        "# Reshape train/validation/test sets to conform to PyTorch's (N, Channels, Height, Width) standard for CNNs\n",
        "\n",
        "features_train = np.reshape(features_train, (29533, 1, 1, 8192))\n",
        "features_validation = np.reshape(features_validation, (3281, 1, 1, 8192))\n",
        "features_test = np.reshape(features_test, (4686, 1, 1, 8192))\n",
        "'''"
      ]
    },
    {
      "cell_type": "code",
      "source": [
        "print(\"Training features and targets sets shapes:\\n\" + str((features_train.shape, targets_train.shape)))\n",
        "\n",
        "print(\"\\nTesting feautures and targets sets shape:\\n\" + str((features_test.shape, targets_test.shape)))\n",
        "\n",
        "print(\"\\nValidation features and targets sets shape:\\n\" + str((features_validation.shape, targets_validation.shape)))"
      ],
      "metadata": {
        "colab": {
          "base_uri": "https://localhost:8080/"
        },
        "id": "M0JcRo46OGIg",
        "outputId": "cc0de702-be3d-43a6-ba19-347b9548d222"
      },
      "id": "M0JcRo46OGIg",
      "execution_count": 45,
      "outputs": [
        {
          "output_type": "stream",
          "name": "stdout",
          "text": [
            "Training features and targets sets shapes:\n",
            "((29533, 8192), (29533, 1))\n",
            "\n",
            "Testing feautures and targets sets shape:\n",
            "((4686, 8192), (4686, 1))\n",
            "\n",
            "Validation features and targets sets shape:\n",
            "((3281, 8192), (3281, 1))\n"
          ]
        }
      ]
    },
    {
      "cell_type": "markdown",
      "id": "526dd6ab",
      "metadata": {
        "id": "526dd6ab"
      },
      "source": [
        "## Understanding the Task"
      ]
    },
    {
      "cell_type": "markdown",
      "id": "1833a5f5",
      "metadata": {
        "id": "1833a5f5"
      },
      "source": [
        "This task first necessitates a Fully Connected Network binary classification model with a softmax output of 0, designating noise, and 1, designating a CCSN gravitational wave."
      ]
    },
    {
      "cell_type": "markdown",
      "id": "2345d6c5",
      "metadata": {
        "id": "2345d6c5"
      },
      "source": [
        "The task essentially to identify each sample, from all signal parameters (No Rotation, Slow Rotation, and Fast Rotation), as containing a CCSN (1) or being strictly noise (0). It is therefore a binary classification problem."
      ]
    },
    {
      "cell_type": "markdown",
      "id": "e6ce44e5",
      "metadata": {
        "id": "e6ce44e5"
      },
      "source": [
        "I can also compare the performance of this model for different rotations. Perhaps a particular rotation is easier for the model, and contains more CCSNs. Or perhaps the model is generalizing to different rotations without an issue."
      ]
    },
    {
      "cell_type": "markdown",
      "id": "f275694a",
      "metadata": {
        "id": "f275694a"
      },
      "source": [
        "## Developing an initial plan for your project"
      ]
    },
    {
      "cell_type": "markdown",
      "id": "d9ade71a",
      "metadata": {
        "id": "d9ade71a"
      },
      "source": [
        "I will be using a FCN binary classification model when defining my class model. \n",
        "- input dimensions: 8192\n",
        "- 3 neural network layers\n",
        "- batchsize: 4219 (7 batches)"
      ]
    },
    {
      "cell_type": "code",
      "execution_count": 46,
      "id": "7b227aa8",
      "metadata": {
        "id": "7b227aa8"
      },
      "outputs": [],
      "source": [
        "class BinaryClassification(torch.nn.Module):\n",
        "    \n",
        "    def __init__(self, input_dim, output_dim, hidden1_dim, hidden2_dim):\n",
        "        \n",
        "        super(BinaryClassification, self).__init__()\n",
        "        \n",
        "        # we will have 5 neural network layers\n",
        "        \n",
        "        self.layer1 = torch.nn.Linear(input_dim, hidden1_dim)\n",
        "        self.layer2 = torch.nn.Linear(hidden1_dim, hidden2_dim)\n",
        "        self.layer3 = torch.nn.Linear(hidden2_dim, output_dim)\n",
        "\n",
        "        self.relu = torch.nn.ReLU()\n",
        "        self.dropout = torch.nn.Dropout(p=0.1) # dropouts neurons with probability of neuron dropout being 25%\n",
        "        self.bn1 = torch.nn.BatchNorm1d(hidden1_dim)\n",
        "        self.bn2 = torch.nn.BatchNorm1d(hidden2_dim)\n",
        "        ''' other stuff\n",
        "        torch.nn.init.kaiming_uniform_(self.layer3.weight)\n",
        "        '''\n",
        "        \n",
        "    def forward(self, x):\n",
        "        \n",
        "        x = self.relu(self.layer1(x))\n",
        "        x = self.bn1(x)\n",
        "        x = self.relu(self.layer2(x))\n",
        "        x = self.bn2(x)\n",
        "        x = self.dropout(x)\n",
        "        x = self.layer3(x)\n",
        "        \n",
        "        return x\n",
        "\n",
        "'''\n",
        "class BinaryClassificationLSTM(torch.nn.Module):\n",
        "    \n",
        "    def __init__(self, input_size, hidden_size, num_layers, output_size):\n",
        "        \n",
        "        super(BinaryClassificationLSTM, self).__init__()\n",
        "        \n",
        "        # using LSTM cell with batch_first = True, thus using (sample_size, sequence_length, # of features) format\n",
        "        # bidirectional = False, so only forward context is taken\n",
        "        self.lstm = torch.nn.LSTM(input_size=input_size, hidden_size=hidden_size,\n",
        "                                  num_layers=num_layers,\n",
        "                                  batch_first=True,\n",
        "                                  bidirectional=False)\n",
        "        \n",
        "        # decoder layer to take in LSTM hidden states and output a single number (denoised value at time t)\n",
        "        self.decoder = torch.nn.Linear(hidden_size, output_size)\n",
        "        \n",
        "        # uses Tanh activation to squeeze the decoder output between -1 and 1\n",
        "        # (data consists of sinusodial between -1 and 1)\n",
        "        self.output_activation = torch.nn.Tanh()\n",
        "        \n",
        "    def forward(self, input_seq, hidden_state):\n",
        "        \n",
        "        # feed the LSTM cell with input sequence and initial hidden state\n",
        "        pred, hidden = self.lstm(input_seq, hidden_state)\n",
        "        \n",
        "        # feed the output of LSTM (pred) to decoder layer, followed by taking the Tanh activation\n",
        "        denoised_seq = self.output_activation(self.decoder(pred))\n",
        "        \n",
        "        return denoised_seq\n",
        "\n",
        "'''\n",
        "\n",
        "class BinaryClassificationCNNModel(torch.nn.Module):\n",
        "    \n",
        "    def __init__(self):\n",
        "        super(BinaryClassificationCNNModel, self).__init__()\n",
        "        \n",
        "        self.layer1 = torch.nn.Sequential(\n",
        "            torch.nn.Conv2d(in_channels=1, out_channels=32, kernel_size=3, padding=1),\n",
        "            torch.nn.BatchNorm2d(32),\n",
        "            torch.nn.ReLU(),\n",
        "            torch.nn.MaxPool2d(kernel_size=2, stride=2)\n",
        "        )\n",
        "        \n",
        "        self.layer2 = torch.nn.Sequential(\n",
        "            torch.nn.Conv2d(in_channels=32, out_channels=64, kernel_size=3),\n",
        "            torch.nn.BatchNorm2d(64),\n",
        "            torch.nn.ReLU(),\n",
        "            torch.nn.MaxPool2d(2)\n",
        "        )\n",
        "        \n",
        "        self.fc1 = torch.nn.Linear(in_features=64*6*6, out_features=600)\n",
        "        self.drop = torch.nn.Dropout(p=0.25)\n",
        "        self.fc2 = torch.nn.Linear(in_features=600, out_features=120)\n",
        "        self.fc3 = torch.nn.Linear(in_features=120, out_features=1)\n",
        "        \n",
        "    def forward(self, x):\n",
        "        out = self.layer1(x)\n",
        "        out = self.layer2(out)\n",
        "        out = out.view(out.size(0), -1)\n",
        "        out = self.fc1(out)\n",
        "        out = self.drop(out)\n",
        "        out = self.fc2(out)\n",
        "        out = self.fc3(out)\n",
        "        \n",
        "        return out\n",
        "\n"
      ]
    },
    {
      "cell_type": "raw",
      "id": "a392e28b",
      "metadata": {
        "id": "a392e28b"
      },
      "source": [
        "Defining hyperparameters:"
      ]
    },
    {
      "cell_type": "code",
      "execution_count": 47,
      "id": "5fb3a624",
      "metadata": {
        "id": "5fb3a624",
        "outputId": "4b20987f-89eb-4769-b3a4-961f035cfaf6",
        "colab": {
          "base_uri": "https://localhost:8080/"
        }
      },
      "outputs": [
        {
          "output_type": "execute_result",
          "data": {
            "text/plain": [
              "BinaryClassification(\n",
              "  (layer1): Linear(in_features=8192, out_features=1024, bias=True)\n",
              "  (layer2): Linear(in_features=1024, out_features=8, bias=True)\n",
              "  (layer3): Linear(in_features=8, out_features=1, bias=True)\n",
              "  (relu): ReLU()\n",
              "  (dropout): Dropout(p=0.1, inplace=False)\n",
              "  (bn1): BatchNorm1d(1024, eps=1e-05, momentum=0.1, affine=True, track_running_stats=True)\n",
              "  (bn2): BatchNorm1d(8, eps=1e-05, momentum=0.1, affine=True, track_running_stats=True)\n",
              ")"
            ]
          },
          "metadata": {},
          "execution_count": 47
        }
      ],
      "source": [
        "# fix the manual seed so that the model performance is reproducable\n",
        "torch.manual_seed(55)\n",
        "\n",
        "# initialize our neural network model with input and output dimensions\n",
        "\n",
        "# subject to change\n",
        "dim1 = 1024\n",
        "dim2 = 8\n",
        "\n",
        "\n",
        "model = BinaryClassification(input_dim = 8192, output_dim = 1, \n",
        "                             hidden1_dim = dim1, \n",
        "                             hidden2_dim = dim2)\n",
        "\n",
        "#model = BinaryClassificationCNNModel()\n",
        "\n",
        "#model = BinaryClassificationLSTM(input_size = 1, hidden_size = 30, num_layers = 1, output_size = 1)\n",
        "\n",
        "# define learning rate and # of epochs\n",
        "learning_rate = 0.001\n",
        "epochs = 25\n",
        "batchsize = 4219\n",
        "\n",
        "# define supervised loss function and optimizer\n",
        "loss_func = torch.nn.BCEWithLogitsLoss()\n",
        "#loss_func = torch.nn.CrossEntropyLoss()\n",
        "optimizer = torch.optim.Adam(model.parameters(), lr = learning_rate)\n",
        "\n",
        "model"
      ]
    },
    {
      "cell_type": "raw",
      "id": "62f33770",
      "metadata": {
        "id": "62f33770"
      },
      "source": [
        "Train model:"
      ]
    },
    {
      "cell_type": "code",
      "execution_count": 48,
      "id": "a7076fc1",
      "metadata": {
        "id": "a7076fc1",
        "outputId": "d463bda5-c748-4dbe-fc5a-1f8be8e5318a",
        "colab": {
          "base_uri": "https://localhost:8080/"
        }
      },
      "outputs": [
        {
          "output_type": "stream",
          "name": "stdout",
          "text": [
            "torch.Size([4219, 8192])\n",
            "torch.Size([4219, 1])\n"
          ]
        }
      ],
      "source": [
        "# identify tracked values \n",
        "train_loss_list = []\n",
        "validation_accuracy_list = np.zeros((epochs,))\n",
        "\n",
        "# converting training set into torch tensors\n",
        "features_train = torch.FloatTensor(features_train)\n",
        "targets_train = torch.FloatTensor(targets_train)\n",
        "\n",
        "# converting validation set into torch tensors\n",
        "features_validation = torch.FloatTensor(features_validation)\n",
        "targets_validation = torch.FloatTensor(targets_validation)\n",
        "\n",
        "# converting testing set into torch tensors \n",
        "features_test = torch.FloatTensor(features_test)\n",
        "targets_test = torch.FloatTensor(targets_test)\n",
        "\n",
        "\n",
        "# splitting training set into batches sizes of 4219\n",
        "train_batches_features = torch.split(features_train, batchsize)\n",
        "train_batches_targets = torch.split(targets_train, batchsize)\n",
        "\n",
        "batch_split_num = len(train_batches_features)\n",
        "        \n",
        "print(train_batches_features[0].shape)\n",
        "print(train_batches_targets[0].shape)"
      ]
    },
    {
      "cell_type": "code",
      "source": [
        "print(train_batches_features[1])"
      ],
      "metadata": {
        "colab": {
          "base_uri": "https://localhost:8080/"
        },
        "id": "e5Llq1qlDRkA",
        "outputId": "112c331f-f699-4a24-c864-c75d1c146c18"
      },
      "id": "e5Llq1qlDRkA",
      "execution_count": 49,
      "outputs": [
        {
          "output_type": "stream",
          "name": "stdout",
          "text": [
            "tensor([[ 0.1049, -0.3944, -0.4417,  ...,  0.0546, -0.1608, -0.0238],\n",
            "        [ 0.0764,  0.0782, -0.1603,  ...,  0.1193,  0.1823, -0.0184],\n",
            "        [-0.0604,  0.2844,  0.1055,  ...,  0.0588,  0.0576,  0.0298],\n",
            "        ...,\n",
            "        [ 0.0487, -0.6919, -0.7226,  ..., -0.0526, -0.0438, -0.0363],\n",
            "        [-0.0188,  0.1516,  0.4674,  ..., -0.0468, -0.1285, -0.0067],\n",
            "        [-0.0358, -0.0233, -0.0907,  ...,  0.6482,  0.7371,  0.0166]])\n"
          ]
        }
      ]
    },
    {
      "cell_type": "code",
      "source": [
        "print(train_batches_targets[1])"
      ],
      "metadata": {
        "colab": {
          "base_uri": "https://localhost:8080/"
        },
        "id": "yL4Z6dQ_DWBx",
        "outputId": "f95f885a-f3c3-4b0e-e6e7-7dee7a0dc26f"
      },
      "id": "yL4Z6dQ_DWBx",
      "execution_count": 50,
      "outputs": [
        {
          "output_type": "stream",
          "name": "stdout",
          "text": [
            "tensor([[0.],\n",
            "        [0.],\n",
            "        [1.],\n",
            "        ...,\n",
            "        [1.],\n",
            "        [0.],\n",
            "        [1.]])\n"
          ]
        }
      ]
    },
    {
      "cell_type": "code",
      "execution_count": 51,
      "id": "0abe5129",
      "metadata": {
        "id": "0abe5129",
        "outputId": "5db6b930-0ac9-47f0-ad83-cba2b092758f",
        "colab": {
          "base_uri": "https://localhost:8080/"
        }
      },
      "outputs": [
        {
          "output_type": "stream",
          "name": "stderr",
          "text": [
            "100%|██████████| 25/25 [19:58<00:00, 47.96s/it]\n"
          ]
        }
      ],
      "source": [
        "# Training loop ----------------------------------------------------------------------------------------\n",
        "for epoch in tqdm.trange(epochs):\n",
        "    \n",
        "    for i in range(batch_split_num):\n",
        "        #hidden_state = None\n",
        "        train_outputs = model(train_batches_features[i])\n",
        "        #print(train_outputs, train_batches_targets[i].shape)\n",
        "        loss = loss_func(train_outputs, train_batches_targets[i])\n",
        "        train_loss_list.append(loss.item())\n",
        "        \n",
        "        optimizer.zero_grad()\n",
        "        loss.backward()\n",
        "        optimizer.step()\n",
        "    \n",
        "    # Compute validation accuracy ---------------------------------------------------------------------\n",
        "    \n",
        "    with torch.no_grad():\n",
        "        \n",
        "        validation_outputs = model(features_validation)\n",
        "        correct = (torch.argmax(validation_outputs, dim=1) == targets_validation).type(torch.FloatTensor)\n",
        "        validation_accuracy_list[epoch] = correct.mean()"
      ]
    },
    {
      "cell_type": "code",
      "execution_count": null,
      "id": "1e685021",
      "metadata": {
        "id": "1e685021"
      },
      "outputs": [],
      "source": []
    },
    {
      "cell_type": "code",
      "execution_count": 52,
      "id": "cdd3cd6f",
      "metadata": {
        "id": "cdd3cd6f",
        "colab": {
          "base_uri": "https://localhost:8080/",
          "height": 308
        },
        "outputId": "974d211b-74b4-40e5-837d-1692e35272da"
      },
      "outputs": [
        {
          "output_type": "execute_result",
          "data": {
            "text/plain": [
              "'\\nplt.subplot(2,1,2)\\nplt.plot(validation_accuracy_list, linewidth=3, color=\"gold\")\\nplt.ylabel(\"validation accuracy\")\\nplt.xlabel(\"epochs\")\\nsns.despine()\\n'"
            ],
            "application/vnd.google.colaboratory.intrinsic+json": {
              "type": "string"
            }
          },
          "metadata": {},
          "execution_count": 52
        },
        {
          "output_type": "display_data",
          "data": {
            "text/plain": [
              "<Figure size 1080x648 with 1 Axes>"
            ],
            "image/png": "[encoded data removed]"
          },
          "metadata": {}
        }
      ],
      "source": [
        "# visualizing training loss\n",
        "\n",
        "sns.set(style = 'whitegrid', font_scale = 1)\n",
        "\n",
        "plt.figure(figsize = (15,9))\n",
        "\n",
        "plt.subplot(2,1,1)\n",
        "plt.plot(train_loss_list, linewidth=3)\n",
        "plt.ylabel(\"training loss\")\n",
        "plt.xlabel(\"iterations\")\n",
        "sns.despine()\n",
        "\n",
        "'''\n",
        "plt.subplot(2,1,2)\n",
        "plt.plot(validation_accuracy_list, linewidth=3, color=\"gold\")\n",
        "plt.ylabel(\"validation accuracy\")\n",
        "plt.xlabel(\"epochs\")\n",
        "sns.despine()\n",
        "'''"
      ]
    },
    {
      "cell_type": "code",
      "execution_count": 54,
      "id": "b9cd7bcc",
      "metadata": {
        "id": "b9cd7bcc",
        "colab": {
          "base_uri": "https://localhost:8080/"
        },
        "outputId": "1ca13d79-40a2-4925-c954-11823f62b509"
      },
      "outputs": [
        {
          "output_type": "stream",
          "name": "stdout",
          "text": [
            "Testing Accuracy: 84.9%\n"
          ]
        }
      ],
      "source": [
        "# compute testing accuracy \n",
        "\n",
        "with torch.no_grad():\n",
        "    \n",
        "    y_pred_test = model(features_test)\n",
        "    \n",
        "    correct = (torch.argmax(y_pred_test, dim=1) == targets_test).type(torch.FloatTensor)\n",
        "    \n",
        "    print(\"Testing Accuracy: \" + str(correct.mean().numpy()*100) + '%')\n"
      ]
    },
    {
      "cell_type": "code",
      "source": [
        "# Predictions\n",
        "\n",
        "sample = 0\n",
        "\n",
        "with torch.no_grad():\n",
        "    predict = model(features_test)\n",
        "\n",
        "prediction = torch.argmax(predict[sample])\n",
        "\n",
        "if prediction.item()== 0:\n",
        "    print(\"no CCSN gravitational wave\")\n",
        "else:\n",
        "    print(\"there is indeed a CCSN gravitational wave in this sample\")\n",
        "    \n",
        "targets_test[sample]\n",
        "\n",
        "# nr\n",
        "plt.figure(figsize = (5, 2.5))\n",
        "plt.plot(features_test[sample], linewidth = 1)\n",
        "plt.title('Model predicts a '+ str(prediction.item()) + \" for sample \" + str(sample))\n",
        "sns.despine()\n",
        "\n"
      ],
      "metadata": {
        "id": "QYubh8bGmqhX",
        "colab": {
          "base_uri": "https://localhost:8080/",
          "height": 237
        },
        "outputId": "b46597ff-41af-41f8-fa98-91eebd9acf24"
      },
      "id": "QYubh8bGmqhX",
      "execution_count": 61,
      "outputs": [
        {
          "output_type": "stream",
          "name": "stdout",
          "text": [
            "no CCSN gravitational wave\n",
            "tensor([0.])\n"
          ]
        },
        {
          "output_type": "display_data",
          "data": {
            "text/plain": [
              "<Figure size 360x180 with 1 Axes>"
            ],
            "image/png": "[encoded data removed]"
          },
          "metadata": {}
        }
      ]
    },
    {
      "cell_type": "code",
      "source": [
        "sample = 4685\n",
        "\n",
        "with torch.no_grad():\n",
        "    predict = model(features_test)\n",
        "\n",
        "prediction = torch.argmax(predict[sample])\n",
        "\n",
        "if prediction.item()== 0:\n",
        "    print(\"no CCSN gravitational wave\")\n",
        "else:\n",
        "    print(\"there is indeed a CCSN gravitational wave in this sample\")\n",
        "\n",
        "print(targets_test[sample])\n",
        "\n",
        "\n",
        "# nr\n",
        "plt.figure(figsize = (5, 2.5))\n",
        "plt.plot(features_test[sample], linewidth = 1)\n",
        "plt.title('Model predicts a 1'+ str(prediction.item()) + \" for sample \" + str(sample))\n",
        "sns.despine()\n"
      ],
      "metadata": {
        "colab": {
          "base_uri": "https://localhost:8080/",
          "height": 237
        },
        "id": "zdWjAr7FJpda",
        "outputId": "51d39bb3-1966-4b51-f40c-18d5c37903da"
      },
      "id": "zdWjAr7FJpda",
      "execution_count": 69,
      "outputs": [
        {
          "output_type": "stream",
          "name": "stdout",
          "text": [
            "There is indeed a CCSN gravitational wave in this sample\n",
            "tensor([1.])\n"
          ]
        },
        {
          "output_type": "display_data",
          "data": {
            "text/plain": [
              "<Figure size 360x180 with 1 Axes>"
            ],
            "image/png": "[encoded data removed]"
          },
          "metadata": {}
        }
      ]
    }
  ],
  "metadata": {
    "kernelspec": {
      "display_name": "Python 3 (ipykernel)",
      "language": "python",
      "name": "python3"
    },
    "language_info": {
      "codemirror_mode": {
        "name": "ipython",
        "version": 3
      },
      "file_extension": ".py",
      "mimetype": "text/x-python",
      "name": "python",
      "nbconvert_exporter": "python",
      "pygments_lexer": "ipython3",
      "version": "3.9.12"
    },
    "colab": {
      "provenance": [],
      "collapsed_sections": []
    }
  },
  "nbformat": 4,
  "nbformat_minor": 5
}